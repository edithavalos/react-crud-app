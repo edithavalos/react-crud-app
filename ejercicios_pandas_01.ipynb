{
  "cells": [
    {
      "cell_type": "markdown",
      "metadata": {
        "id": "view-in-github",
        "colab_type": "text"
      },
      "source": [
        "<a href=\"https://colab.research.google.com/github/edithavalos/react-crud-app/blob/master/ejercicios_pandas_01.ipynb\" target=\"_parent\"><img src=\"https://colab.research.google.com/assets/colab-badge.svg\" alt=\"Open In Colab\"/></a>"
      ]
    },
    {
      "cell_type": "markdown",
      "id": "f84186cd",
      "metadata": {
        "id": "f84186cd"
      },
      "source": [
        "**Ejercicios con pandas usando los datos de muestra de Google Colab**\n",
        "\n",
        "**Ejercicio 1:**\n",
        "\n",
        "Cargar el archivo `california_housing_train.csv` en un DataFrame de pandas y mostrar las primeras 5 filas.\n",
        "\n",
        "---\n",
        "\n",
        "**Ejercicio 2:**\n",
        "\n",
        "¿Cuántas filas y columnas tiene el DataFrame cargado del archivo `california_housing_train.csv`?\n",
        "\n",
        "---\n",
        "\n",
        "**Ejercicio 3:**\n",
        "\n",
        "Obtener un resumen estadístico (media, desviación estándar, valores mínimos y máximos, etc.) de todas las columnas numéricas del DataFrame.\n",
        "\n",
        "---\n",
        "\n",
        "**Ejercicio 4:**\n",
        "\n",
        "Seleccionar y mostrar todas las filas donde la población (`population`) es mayor a 1000.\n",
        "\n",
        "---\n",
        "\n",
        "**Ejercicio 5:**\n",
        "\n",
        "Añadir una nueva columna llamada `income_per_person` que sea el resultado de dividir `median_income` entre `population`.\n",
        "\n",
        "---\n",
        "\n",
        "**Ejercicio 6:**\n",
        "\n",
        "Ordenar el DataFrame en orden descendente según la columna `median_house_value`.\n",
        "\n",
        "---\n",
        "\n",
        "**Ejercicio 7:**\n",
        "\n",
        "Calcular el valor medio de `median_house_value` para cada una de las categorías de `ocean_proximity`.\n",
        "\n",
        "---\n",
        "\n",
        "**Ejercicio 8:**\n",
        "\n",
        "Crear un histograma de la columna `housing_median_age`.\n",
        "\n",
        "---\n",
        "\n",
        "**Ejercicio 9:**\n",
        "\n",
        "Usando el archivo `mnist_train_small.csv`, cargar los datos y contar cuántas imágenes hay de cada dígito (0-9).\n",
        "\n",
        "---\n",
        "\n",
        "**Ejercicio 10:**\n",
        "\n",
        "En el DataFrame del MNIST, seleccionar todas las filas donde el dígito es un 5 y convertir los datos de píxeles en una matriz de 28x28 para visualizar la imagen.\n",
        "\n",
        "---\n",
        "\n",
        "**Ejercicio 11:**\n",
        "\n",
        "Usando pandas, concatenar los conjuntos de datos `california_housing_train.csv` y `california_housing_test.csv` en un solo DataFrame. Hacer lo mismo con `mnist_train_small.csv` y `mnist_test.csv`. Asegúrate de que los índices estén correctamente manejados y que no haya filas duplicadas.\n",
        "\n",
        "---"
      ]
    },
    {
      "cell_type": "markdown",
      "source": [
        "Ejercicio 1:\n",
        "\n",
        "Cargar el archivo california_housing_train.csv en un DataFrame de pandas y mostrar las primeras 5 filas"
      ],
      "metadata": {
        "id": "RBffiy26Tsf9"
      },
      "id": "RBffiy26Tsf9"
    },
    {
      "cell_type": "code",
      "source": [
        "import pandas as pd\n",
        "\n",
        "ruta_archivo = 'sample_data/california_housing_train.csv'\n",
        "df = pd.read_csv(ruta_archivo)\n",
        "\n",
        "print(df.head())"
      ],
      "metadata": {
        "colab": {
          "base_uri": "https://localhost:8080/"
        },
        "id": "JCyb7wOhTs0Q",
        "outputId": "94eb7573-cbe3-4a63-fe9a-58209be3b216"
      },
      "id": "JCyb7wOhTs0Q",
      "execution_count": null,
      "outputs": [
        {
          "output_type": "stream",
          "name": "stdout",
          "text": [
            "   longitude  latitude  housing_median_age  total_rooms  total_bedrooms  \\\n",
            "0    -114.31     34.19                15.0       5612.0          1283.0   \n",
            "1    -114.47     34.40                19.0       7650.0          1901.0   \n",
            "2    -114.56     33.69                17.0        720.0           174.0   \n",
            "3    -114.57     33.64                14.0       1501.0           337.0   \n",
            "4    -114.57     33.57                20.0       1454.0           326.0   \n",
            "\n",
            "   population  households  median_income  median_house_value  \n",
            "0      1015.0       472.0         1.4936             66900.0  \n",
            "1      1129.0       463.0         1.8200             80100.0  \n",
            "2       333.0       117.0         1.6509             85700.0  \n",
            "3       515.0       226.0         3.1917             73400.0  \n",
            "4       624.0       262.0         1.9250             65500.0  \n"
          ]
        }
      ]
    },
    {
      "cell_type": "markdown",
      "source": [
        "Ejercicio 2:\n",
        "\n",
        "¿Cuántas filas y columnas tiene el DataFrame cargado del archivo california_housing_train.csv?"
      ],
      "metadata": {
        "id": "nITauj6xT6DV"
      },
      "id": "nITauj6xT6DV"
    },
    {
      "cell_type": "code",
      "source": [
        "num_rows = len(df.index)\n",
        "num_cols = len(df.columns)\n",
        "\n",
        "print(f\"El DataFrame tiene {num_rows} filas y {num_cols} columnas.\")"
      ],
      "metadata": {
        "colab": {
          "base_uri": "https://localhost:8080/"
        },
        "id": "GFhMcm-VT6Ta",
        "outputId": "9ba77b95-97c4-4582-b70c-79b016cd5244"
      },
      "id": "GFhMcm-VT6Ta",
      "execution_count": null,
      "outputs": [
        {
          "output_type": "stream",
          "name": "stdout",
          "text": [
            "El DataFrame tiene 17000 filas y 9 columnas.\n"
          ]
        }
      ]
    },
    {
      "cell_type": "markdown",
      "source": [
        "Ejercicio 3:\n",
        "\n",
        "Obtener un resumen estadístico (media, desviación estándar, valores mínimos y máximos, etc.) de todas las columnas numéricas del DataFrame."
      ],
      "metadata": {
        "id": "Jes3ytndUCNd"
      },
      "id": "Jes3ytndUCNd"
    },
    {
      "cell_type": "code",
      "source": [
        "print(df.describe())"
      ],
      "metadata": {
        "colab": {
          "base_uri": "https://localhost:8080/"
        },
        "id": "4yB1ugavUCaI",
        "outputId": "817b752b-02b1-48e4-b566-9ffab051e54e"
      },
      "id": "4yB1ugavUCaI",
      "execution_count": null,
      "outputs": [
        {
          "output_type": "stream",
          "name": "stdout",
          "text": [
            "          longitude      latitude  housing_median_age   total_rooms  \\\n",
            "count  17000.000000  17000.000000        17000.000000  17000.000000   \n",
            "mean    -119.562108     35.625225           28.589353   2643.664412   \n",
            "std        2.005166      2.137340           12.586937   2179.947071   \n",
            "min     -124.350000     32.540000            1.000000      2.000000   \n",
            "25%     -121.790000     33.930000           18.000000   1462.000000   \n",
            "50%     -118.490000     34.250000           29.000000   2127.000000   \n",
            "75%     -118.000000     37.720000           37.000000   3151.250000   \n",
            "max     -114.310000     41.950000           52.000000  37937.000000   \n",
            "\n",
            "       total_bedrooms    population    households  median_income  \\\n",
            "count    17000.000000  17000.000000  17000.000000   17000.000000   \n",
            "mean       539.410824   1429.573941    501.221941       3.883578   \n",
            "std        421.499452   1147.852959    384.520841       1.908157   \n",
            "min          1.000000      3.000000      1.000000       0.499900   \n",
            "25%        297.000000    790.000000    282.000000       2.566375   \n",
            "50%        434.000000   1167.000000    409.000000       3.544600   \n",
            "75%        648.250000   1721.000000    605.250000       4.767000   \n",
            "max       6445.000000  35682.000000   6082.000000      15.000100   \n",
            "\n",
            "       median_house_value  \n",
            "count        17000.000000  \n",
            "mean        207300.912353  \n",
            "std         115983.764387  \n",
            "min          14999.000000  \n",
            "25%         119400.000000  \n",
            "50%         180400.000000  \n",
            "75%         265000.000000  \n",
            "max         500001.000000  \n"
          ]
        }
      ]
    },
    {
      "cell_type": "markdown",
      "source": [
        "Ejercicio 4:\n",
        "\n",
        "Seleccionar y mostrar todas las filas donde la población (population) es mayor a 1000."
      ],
      "metadata": {
        "id": "c5JXv7_BUEEG"
      },
      "id": "c5JXv7_BUEEG"
    },
    {
      "cell_type": "code",
      "source": [
        "population = df[df['population'] > 1000]\n",
        "print(population)"
      ],
      "metadata": {
        "colab": {
          "base_uri": "https://localhost:8080/"
        },
        "id": "dLnyCklvUEWy",
        "outputId": "4b60216d-fdd6-41f7-fc3f-0c36044c7684"
      },
      "id": "dLnyCklvUEWy",
      "execution_count": null,
      "outputs": [
        {
          "output_type": "stream",
          "name": "stdout",
          "text": [
            "       longitude  latitude  housing_median_age  total_rooms  total_bedrooms  \\\n",
            "0        -114.31     34.19                15.0       5612.0          1283.0   \n",
            "1        -114.47     34.40                19.0       7650.0          1901.0   \n",
            "6        -114.58     33.61                25.0       2907.0           680.0   \n",
            "8        -114.59     33.61                34.0       4789.0          1175.0   \n",
            "10       -114.60     33.62                16.0       3741.0           801.0   \n",
            "...          ...       ...                 ...          ...             ...   \n",
            "16991    -124.23     41.75                11.0       3159.0           616.0   \n",
            "16993    -124.23     40.54                52.0       2694.0           453.0   \n",
            "16996    -124.27     40.69                36.0       2349.0           528.0   \n",
            "16997    -124.30     41.84                17.0       2677.0           531.0   \n",
            "16998    -124.30     41.80                19.0       2672.0           552.0   \n",
            "\n",
            "       population  households  median_income  median_house_value  \n",
            "0          1015.0       472.0         1.4936             66900.0  \n",
            "1          1129.0       463.0         1.8200             80100.0  \n",
            "6          1841.0       633.0         2.6768             82400.0  \n",
            "8          3134.0      1056.0         2.1782             58400.0  \n",
            "10         2434.0       824.0         2.6797             86500.0  \n",
            "...           ...         ...            ...                 ...  \n",
            "16991      1343.0       479.0         2.4805             73200.0  \n",
            "16993      1152.0       435.0         3.0806            106700.0  \n",
            "16996      1194.0       465.0         2.5179             79000.0  \n",
            "16997      1244.0       456.0         3.0313            103600.0  \n",
            "16998      1298.0       478.0         1.9797             85800.0  \n",
            "\n",
            "[10299 rows x 9 columns]\n"
          ]
        }
      ]
    },
    {
      "cell_type": "markdown",
      "source": [
        "Ejercicio 5:\n",
        "\n",
        "Añadir una nueva columna llamada income_per_person que sea el resultado de dividir median_income entre population."
      ],
      "metadata": {
        "id": "otc7bshAUEzL"
      },
      "id": "otc7bshAUEzL"
    },
    {
      "cell_type": "code",
      "source": [
        "income_per_person = df['median_income'] / df['population']\n",
        "df['income_per_person'] = income_per_person\n",
        "print(df.head())"
      ],
      "metadata": {
        "colab": {
          "base_uri": "https://localhost:8080/"
        },
        "id": "aDdkHKDhUFCb",
        "outputId": "9f99696f-acda-4031-b050-3ee37ffceb45"
      },
      "id": "aDdkHKDhUFCb",
      "execution_count": null,
      "outputs": [
        {
          "output_type": "stream",
          "name": "stdout",
          "text": [
            "   longitude  latitude  housing_median_age  total_rooms  total_bedrooms  \\\n",
            "0    -114.31     34.19                15.0       5612.0          1283.0   \n",
            "1    -114.47     34.40                19.0       7650.0          1901.0   \n",
            "2    -114.56     33.69                17.0        720.0           174.0   \n",
            "3    -114.57     33.64                14.0       1501.0           337.0   \n",
            "4    -114.57     33.57                20.0       1454.0           326.0   \n",
            "\n",
            "   population  households  median_income  median_house_value  \\\n",
            "0      1015.0       472.0         1.4936             66900.0   \n",
            "1      1129.0       463.0         1.8200             80100.0   \n",
            "2       333.0       117.0         1.6509             85700.0   \n",
            "3       515.0       226.0         3.1917             73400.0   \n",
            "4       624.0       262.0         1.9250             65500.0   \n",
            "\n",
            "   income_per_person  \n",
            "0           0.001472  \n",
            "1           0.001612  \n",
            "2           0.004958  \n",
            "3           0.006197  \n",
            "4           0.003085  \n"
          ]
        }
      ]
    },
    {
      "cell_type": "markdown",
      "source": [
        "Ejercicio 6:\n",
        "\n",
        "Ordenar el DataFrame en orden descendente según la columna median_house_value."
      ],
      "metadata": {
        "id": "TxiZozxtUFO-"
      },
      "id": "TxiZozxtUFO-"
    },
    {
      "cell_type": "code",
      "source": [
        "ordenar = df.sort_values(by='median_house_value', ascending=False)\n",
        "print(ordenar.head())"
      ],
      "metadata": {
        "colab": {
          "base_uri": "https://localhost:8080/"
        },
        "id": "C7jqtDNeUFjZ",
        "outputId": "47592769-2e2e-40f2-c278-1580db74fbbe"
      },
      "id": "C7jqtDNeUFjZ",
      "execution_count": null,
      "outputs": [
        {
          "output_type": "stream",
          "name": "stdout",
          "text": [
            "      longitude  latitude  housing_median_age  total_rooms  total_bedrooms  \\\n",
            "8628    -118.53     34.14                28.0       6920.0           906.0   \n",
            "4398    -118.03     34.16                36.0       1640.0           239.0   \n",
            "8653    -118.54     34.05                33.0       6778.0          1092.0   \n",
            "8652    -118.54     34.06                21.0       3755.0           525.0   \n",
            "4334    -118.01     33.69                 3.0        945.0           115.0   \n",
            "\n",
            "      population  households  median_income  median_house_value  \\\n",
            "8628      2515.0       860.0         9.2189            500001.0   \n",
            "4398       693.0       253.0         6.6888            500001.0   \n",
            "8653      2540.0      1052.0         8.5650            500001.0   \n",
            "8652      1493.0       526.0        11.4233            500001.0   \n",
            "4334       337.0       123.0        11.5199            500001.0   \n",
            "\n",
            "      income_per_person  \n",
            "8628           0.003666  \n",
            "4398           0.009652  \n",
            "8653           0.003372  \n",
            "8652           0.007651  \n",
            "4334           0.034184  \n"
          ]
        }
      ]
    },
    {
      "cell_type": "markdown",
      "source": [
        "Ejercicio 7:\n",
        "\n",
        "Calcular el valor medio de median_house_value para cada una de las categorías de ocean_proximity."
      ],
      "metadata": {
        "id": "Ukjzaw-wUF0d"
      },
      "id": "Ukjzaw-wUF0d"
    },
    {
      "cell_type": "code",
      "source": [
        "if 'ocean_proximity' in df.columns and 'median_house_value' in df.columns:\n",
        "    valor_medio_por_categoria = df.groupby('ocean_proximity')['median_house_value'].mean()\n",
        "\n",
        "    print(\"Valor medio por categoría de ocean_proximity:\")\n",
        "    print(valor_medio_por_categoria)\n",
        "else:\n",
        "    print(\"Una o ambas columnas no están presentes en el DataFrame.\")"
      ],
      "metadata": {
        "id": "YuIDH2ZLUGJl",
        "colab": {
          "base_uri": "https://localhost:8080/"
        },
        "outputId": "7f9d7812-0000-4966-bbec-7900825964fc"
      },
      "id": "YuIDH2ZLUGJl",
      "execution_count": null,
      "outputs": [
        {
          "output_type": "stream",
          "name": "stdout",
          "text": [
            "Una o ambas columnas no están presentes en el DataFrame.\n"
          ]
        }
      ]
    },
    {
      "cell_type": "markdown",
      "source": [
        "Ejercicio 8:\n",
        "\n",
        "Crear un histograma de la columna housing_median_age."
      ],
      "metadata": {
        "id": "hs5E86CzUayv"
      },
      "id": "hs5E86CzUayv"
    },
    {
      "cell_type": "code",
      "source": [
        "df['housing_median_age'].hist(bins=30, color='skyblue', edgecolor='black')"
      ],
      "metadata": {
        "colab": {
          "base_uri": "https://localhost:8080/",
          "height": 447
        },
        "id": "OH1QNMY8UbKG",
        "outputId": "8ed50010-0725-47f7-fce1-fa46b608d07e"
      },
      "id": "OH1QNMY8UbKG",
      "execution_count": null,
      "outputs": [
        {
          "output_type": "execute_result",
          "data": {
            "text/plain": [
              "<Axes: >"
            ]
          },
          "metadata": {},
          "execution_count": 26
        },
        {
          "output_type": "display_data",
          "data": {
            "text/plain": [
              "<Figure size 640x480 with 1 Axes>"
            ],
            "image/png": "[encoded data removed]"
          },
          "metadata": {}
        }
      ]
    },
    {
      "cell_type": "markdown",
      "source": [
        "Ejercicio 9:\n",
        "\n",
        "Usando el archivo mnist_train_small.csv, cargar los datos y contar cuántas imágenes hay de cada dígito (0-9)"
      ],
      "metadata": {
        "id": "qaePSXBCUbZQ"
      },
      "id": "qaePSXBCUbZQ"
    },
    {
      "cell_type": "code",
      "source": [
        "df_mnist = pd.read_csv('sample_data/mnist_train_small.csv')\n",
        "\n",
        "digit_counts = df_mnist['6'].value_counts()\n",
        "\n",
        "digit_counts"
      ],
      "metadata": {
        "colab": {
          "base_uri": "https://localhost:8080/",
          "height": 429
        },
        "id": "JEzmUsdCUbtY",
        "outputId": "b5080654-a058-48b3-d3ce-fb760b7a9620"
      },
      "id": "JEzmUsdCUbtY",
      "execution_count": null,
      "outputs": [
        {
          "output_type": "execute_result",
          "data": {
            "text/plain": [
              "6\n",
              "1    2243\n",
              "7    2126\n",
              "6    2038\n",
              "9    2023\n",
              "3    2021\n",
              "2    1989\n",
              "0    1962\n",
              "4    1924\n",
              "8    1912\n",
              "5    1761\n",
              "Name: count, dtype: int64"
            ],
            "text/html": [
              "<div>\n",
              "<style scoped>\n",
              "    .dataframe tbody tr th:only-of-type {\n",
              "        vertical-align: middle;\n",
              "    }\n",
              "\n",
              "    .dataframe tbody tr th {\n",
              "        vertical-align: top;\n",
              "    }\n",
              "\n",
              "    .dataframe thead th {\n",
              "        text-align: right;\n",
              "    }\n",
              "</style>\n",
              "<table border=\"1\" class=\"dataframe\">\n",
              "  <thead>\n",
              "    <tr style=\"text-align: right;\">\n",
              "      <th></th>\n",
              "      <th>count</th>\n",
              "    </tr>\n",
              "    <tr>\n",
              "      <th>6</th>\n",
              "      <th></th>\n",
              "    </tr>\n",
              "  </thead>\n",
              "  <tbody>\n",
              "    <tr>\n",
              "      <th>1</th>\n",
              "      <td>2243</td>\n",
              "    </tr>\n",
              "    <tr>\n",
              "      <th>7</th>\n",
              "      <td>2126</td>\n",
              "    </tr>\n",
              "    <tr>\n",
              "      <th>6</th>\n",
              "      <td>2038</td>\n",
              "    </tr>\n",
              "    <tr>\n",
              "      <th>9</th>\n",
              "      <td>2023</td>\n",
              "    </tr>\n",
              "    <tr>\n",
              "      <th>3</th>\n",
              "      <td>2021</td>\n",
              "    </tr>\n",
              "    <tr>\n",
              "      <th>2</th>\n",
              "      <td>1989</td>\n",
              "    </tr>\n",
              "    <tr>\n",
              "      <th>0</th>\n",
              "      <td>1962</td>\n",
              "    </tr>\n",
              "    <tr>\n",
              "      <th>4</th>\n",
              "      <td>1924</td>\n",
              "    </tr>\n",
              "    <tr>\n",
              "      <th>8</th>\n",
              "      <td>1912</td>\n",
              "    </tr>\n",
              "    <tr>\n",
              "      <th>5</th>\n",
              "      <td>1761</td>\n",
              "    </tr>\n",
              "  </tbody>\n",
              "</table>\n",
              "</div><br><label><b>dtype:</b> int64</label>"
            ]
          },
          "metadata": {},
          "execution_count": 27
        }
      ]
    },
    {
      "cell_type": "markdown",
      "source": [
        "Ejercicio 10:\n",
        "\n",
        "En el DataFrame del MNIST, seleccionar todas las filas donde el dígito es un 5 y convertir los datos de píxeles en una matriz de 28x28 para visualizar la imagen."
      ],
      "metadata": {
        "id": "8wvXh8QmUcEe"
      },
      "id": "8wvXh8QmUcEe"
    },
    {
      "cell_type": "code",
      "source": [
        "import matplotlib.pyplot as plt\n",
        "five_digits = df_mnist[df_mnist['6'] == 5]\n",
        "pixel_data = five_digits.iloc[:, :-1].values.reshape(-1, 28, 28)\n",
        "plt.imshow(pixel_data[0], cmap='gray')\n",
        "plt.axis('off')\n",
        "plt.show()"
      ],
      "metadata": {
        "colab": {
          "base_uri": "https://localhost:8080/",
          "height": 406
        },
        "id": "oM_Cam9QUch0",
        "outputId": "fe88a0f5-1953-4207-f8b0-b54a2a755de0"
      },
      "id": "oM_Cam9QUch0",
      "execution_count": null,
      "outputs": [
        {
          "output_type": "display_data",
          "data": {
            "text/plain": [
              "<Figure size 640x480 with 1 Axes>"
            ],
            "image/png": "[encoded data removed]"
          },
          "metadata": {}
        }
      ]
    },
    {
      "cell_type": "markdown",
      "source": [
        "Ejercicio 11:\n",
        "\n",
        "Usando pandas, concatenar los conjuntos de datos california_housing_train.csv y california_housing_test.csv en un solo DataFrame. Hacer lo mismo con mnist_train_small.csv y mnist_test.csv. Asegúrate de que los índices estén correctamente manejados y que no haya filas duplicadas."
      ],
      "metadata": {
        "id": "XRXU8wepUpNB"
      },
      "id": "XRXU8wepUpNB"
    },
    {
      "cell_type": "code",
      "source": [
        "import pandas as pd\n",
        "train_df = pd.read_csv('sample_data/california_housing_train.csv')\n",
        "test_df = pd.read_csv('sample_data/california_housing_test.csv')\n",
        "combined_df = pd.concat([train_df, test_df], ignore_index=True)\n",
        "print(combined_df.head())\n",
        "#\n",
        "mnist_train_df = pd.read_csv('sample_data/mnist_train_small.csv')\n",
        "mnist_test_df = pd.read_csv('sample_data/mnist_test.csv')\n",
        "combined_mnist_df = pd.concat([mnist_train_df, mnist_test_df], ignore_index=True)\n",
        "print(combined_mnist_df.head())\n",
        "#\n",
        "print(combined_df.shape)\n",
        "print(combined_mnist_df.shape)\n",
        "#\n",
        "print(combined_df.duplicated().sum())\n",
        "print(combined_mnist_df.duplicated().sum())\n",
        "#\n",
        "combined_df.drop_duplicates(inplace=True)\n",
        "combined_mnist_df.drop_duplicates(inplace=True)\n",
        "#\n",
        "print(combined_df.shape)\n",
        "print(combined_mnist_df.shape)\n",
        "#\n",
        "print(combined_df.index)\n",
        "print(combined_mnist_df.index)\n",
        "#\n",
        "print(combined_df.tail())\n",
        "print(combined_mnist_df.tail())\n",
        "#\n",
        "print(combined_df.sample(5))\n",
        "print(combined_mnist_df.sample(5))\n",
        "#\n",
        "print(combined_df.info())\n",
        "print(combined_mnist_df.info())\n",
        "#\n",
        "print(combined_df.describe())\n",
        "print(combined_mnist_df.describe())\n",
        "#\n",
        "print(combined_df.isnull().sum())\n",
        "print(combined_mnist_df.isnull().sum())"
      ],
      "metadata": {
        "colab": {
          "base_uri": "https://localhost:8080/"
        },
        "id": "jQJA6fZFUt6H",
        "outputId": "aede1ef0-9591-4cf4-fb3c-b1abb709c5da"
      },
      "id": "jQJA6fZFUt6H",
      "execution_count": null,
      "outputs": [
        {
          "output_type": "stream",
          "name": "stdout",
          "text": [
            "   longitude  latitude  housing_median_age  total_rooms  total_bedrooms  \\\n",
            "0    -114.31     34.19                15.0       5612.0          1283.0   \n",
            "1    -114.47     34.40                19.0       7650.0          1901.0   \n",
            "2    -114.56     33.69                17.0        720.0           174.0   \n",
            "3    -114.57     33.64                14.0       1501.0           337.0   \n",
            "4    -114.57     33.57                20.0       1454.0           326.0   \n",
            "\n",
            "   population  households  median_income  median_house_value  \n",
            "0      1015.0       472.0         1.4936             66900.0  \n",
            "1      1129.0       463.0         1.8200             80100.0  \n",
            "2       333.0       117.0         1.6509             85700.0  \n",
            "3       515.0       226.0         3.1917             73400.0  \n",
            "4       624.0       262.0         1.9250             65500.0  \n",
            "     6  0  0.1  0.2  0.3  0.4  0.5  0.6  0.7  0.8  ...  0.658  0.659  0.660  \\\n",
            "0  5.0  0    0    0    0    0    0    0    0    0  ...    NaN    NaN    NaN   \n",
            "1  7.0  0    0    0    0    0    0    0    0    0  ...    NaN    NaN    NaN   \n",
            "2  9.0  0    0    0    0    0    0    0    0    0  ...    NaN    NaN    NaN   \n",
            "3  5.0  0    0    0    0    0    0    0    0    0  ...    NaN    NaN    NaN   \n",
            "4  2.0  0    0    0    0    0    0    0    0    0  ...    NaN    NaN    NaN   \n",
            "\n",
            "   0.661  0.662  0.663  0.664  0.665  0.666  0.667  \n",
            "0    NaN    NaN    NaN    NaN    NaN    NaN    NaN  \n",
            "1    NaN    NaN    NaN    NaN    NaN    NaN    NaN  \n",
            "2    NaN    NaN    NaN    NaN    NaN    NaN    NaN  \n",
            "3    NaN    NaN    NaN    NaN    NaN    NaN    NaN  \n",
            "4    NaN    NaN    NaN    NaN    NaN    NaN    NaN  \n",
            "\n",
            "[5 rows x 948 columns]\n",
            "(20000, 9)\n",
            "(29998, 948)\n",
            "0\n",
            "0\n",
            "(20000, 9)\n",
            "(29998, 948)\n",
            "RangeIndex(start=0, stop=20000, step=1)\n",
            "RangeIndex(start=0, stop=29998, step=1)\n",
            "       longitude  latitude  housing_median_age  total_rooms  total_bedrooms  \\\n",
            "19995    -119.86     34.42                23.0       1450.0           642.0   \n",
            "19996    -118.14     34.06                27.0       5257.0          1082.0   \n",
            "19997    -119.70     36.30                10.0        956.0           201.0   \n",
            "19998    -117.12     34.10                40.0         96.0            14.0   \n",
            "19999    -119.63     34.42                42.0       1765.0           263.0   \n",
            "\n",
            "       population  households  median_income  median_house_value  \n",
            "19995      1258.0       607.0         1.1790            225000.0  \n",
            "19996      3496.0      1036.0         3.3906            237200.0  \n",
            "19997       693.0       220.0         2.2895             62000.0  \n",
            "19998        46.0        14.0         3.2708            162500.0  \n",
            "19999       753.0       260.0         8.5608            500001.0  \n",
            "        6  0  0.1  0.2  0.3  0.4  0.5  0.6  0.7  0.8  ...  0.658  0.659  \\\n",
            "29993 NaN  0    0    0    0    0    0    0    0    0  ...    0.0    0.0   \n",
            "29994 NaN  0    0    0    0    0    0    0    0    0  ...    0.0    0.0   \n",
            "29995 NaN  0    0    0    0    0    0    0    0    0  ...    0.0    0.0   \n",
            "29996 NaN  0    0    0    0    0    0    0    0    0  ...    0.0    0.0   \n",
            "29997 NaN  0    0    0    0    0    0    0    0    0  ...    0.0    0.0   \n",
            "\n",
            "       0.660  0.661  0.662  0.663  0.664  0.665  0.666  0.667  \n",
            "29993    0.0    0.0    0.0    0.0    0.0    0.0    0.0    0.0  \n",
            "29994    0.0    0.0    0.0    0.0    0.0    0.0    0.0    0.0  \n",
            "29995    0.0    0.0    0.0    0.0    0.0    0.0    0.0    0.0  \n",
            "29996    0.0    0.0    0.0    0.0    0.0    0.0    0.0    0.0  \n",
            "29997    0.0    0.0    0.0    0.0    0.0    0.0    0.0    0.0  \n",
            "\n",
            "[5 rows x 948 columns]\n",
            "       longitude  latitude  housing_median_age  total_rooms  total_bedrooms  \\\n",
            "14699    -122.18     37.45                37.0       5257.0          1360.0   \n",
            "7154     -118.32     33.79                32.0       2381.0           467.0   \n",
            "677      -117.04     32.58                20.0       2029.0           357.0   \n",
            "5066     -118.12     34.04                35.0       1038.0           209.0   \n",
            "6220     -118.24     33.94                37.0        869.0           241.0   \n",
            "\n",
            "       population  households  median_income  median_house_value  \n",
            "14699      2128.0      1264.0         4.0000            394300.0  \n",
            "7154       1264.0       488.0         4.1477            315100.0  \n",
            "677        1497.0       353.0         4.0089            132100.0  \n",
            "5066        598.0       190.0         5.9214            254900.0  \n",
            "6220       1040.0       233.0         2.0000             84200.0  \n",
            "         6  0  0.1  0.2  0.3  0.4  0.5  0.6  0.7  0.8  ...  0.658  0.659  \\\n",
            "8221   2.0  0    0    0    0    0    0    0    0    0  ...    NaN    NaN   \n",
            "26808  NaN  0    0    0    0    0    0    0    0    0  ...    0.0    0.0   \n",
            "25722  NaN  0    0    0    0    0    0    0    0    0  ...    0.0    0.0   \n",
            "18090  5.0  0    0    0    0    0    0    0    0    0  ...    NaN    NaN   \n",
            "4161   6.0  0    0    0    0    0    0    0    0    0  ...    NaN    NaN   \n",
            "\n",
            "       0.660  0.661  0.662  0.663  0.664  0.665  0.666  0.667  \n",
            "8221     NaN    NaN    NaN    NaN    NaN    NaN    NaN    NaN  \n",
            "26808    0.0    0.0    0.0    0.0    0.0    0.0    0.0    0.0  \n",
            "25722    0.0    0.0    0.0    0.0    0.0    0.0    0.0    0.0  \n",
            "18090    NaN    NaN    NaN    NaN    NaN    NaN    NaN    NaN  \n",
            "4161     NaN    NaN    NaN    NaN    NaN    NaN    NaN    NaN  \n",
            "\n",
            "[5 rows x 948 columns]\n",
            "<class 'pandas.core.frame.DataFrame'>\n",
            "RangeIndex: 20000 entries, 0 to 19999\n",
            "Data columns (total 9 columns):\n",
            " #   Column              Non-Null Count  Dtype  \n",
            "---  ------              --------------  -----  \n",
            " 0   longitude           20000 non-null  float64\n",
            " 1   latitude            20000 non-null  float64\n",
            " 2   housing_median_age  20000 non-null  float64\n",
            " 3   total_rooms         20000 non-null  float64\n",
            " 4   total_bedrooms      20000 non-null  float64\n",
            " 5   population          20000 non-null  float64\n",
            " 6   households          20000 non-null  float64\n",
            " 7   median_income       20000 non-null  float64\n",
            " 8   median_house_value  20000 non-null  float64\n",
            "dtypes: float64(9)\n",
            "memory usage: 1.4 MB\n",
            "None\n",
            "<class 'pandas.core.frame.DataFrame'>\n",
            "RangeIndex: 29998 entries, 0 to 29997\n",
            "Columns: 948 entries, 6 to 0.667\n",
            "dtypes: float64(326), int64(622)\n",
            "memory usage: 217.0 MB\n",
            "None\n",
            "          longitude      latitude  housing_median_age   total_rooms  \\\n",
            "count  20000.000000  20000.000000        20000.000000  20000.000000   \n",
            "mean    -119.566172     35.626750           28.627750   2637.051550   \n",
            "std        2.003609      2.136141           12.582229   2176.314757   \n",
            "min     -124.350000     32.540000            1.000000      2.000000   \n",
            "25%     -121.790000     33.930000           18.000000   1451.000000   \n",
            "50%     -118.490000     34.250000           29.000000   2126.000000   \n",
            "75%     -118.000000     37.710000           37.000000   3149.000000   \n",
            "max     -114.310000     41.950000           52.000000  37937.000000   \n",
            "\n",
            "       total_bedrooms    population    households  median_income  \\\n",
            "count    20000.000000  20000.000000  20000.000000   20000.000000   \n",
            "mean       537.991800   1425.557650    499.525450       3.872132   \n",
            "std        420.631119   1131.048487    381.729517       1.900356   \n",
            "min          1.000000      3.000000      1.000000       0.499900   \n",
            "25%        296.000000    788.000000    280.000000       2.562500   \n",
            "50%        434.000000   1166.000000    409.000000       3.536000   \n",
            "75%        647.000000   1724.000000    604.000000       4.745325   \n",
            "max       6445.000000  35682.000000   6082.000000      15.000100   \n",
            "\n",
            "       median_house_value  \n",
            "count        20000.000000  \n",
            "mean        207082.716750  \n",
            "std         115557.055856  \n",
            "min          14999.000000  \n",
            "25%         119800.000000  \n",
            "50%         179800.000000  \n",
            "75%         265000.000000  \n",
            "max         500001.000000  \n",
            "                  6        0      0.1      0.2      0.3      0.4      0.5  \\\n",
            "count  19999.000000  29998.0  29998.0  29998.0  29998.0  29998.0  29998.0   \n",
            "mean       4.470124      0.0      0.0      0.0      0.0      0.0      0.0   \n",
            "std        2.892807      0.0      0.0      0.0      0.0      0.0      0.0   \n",
            "min        0.000000      0.0      0.0      0.0      0.0      0.0      0.0   \n",
            "25%        2.000000      0.0      0.0      0.0      0.0      0.0      0.0   \n",
            "50%        4.000000      0.0      0.0      0.0      0.0      0.0      0.0   \n",
            "75%        7.000000      0.0      0.0      0.0      0.0      0.0      0.0   \n",
            "max        9.000000      0.0      0.0      0.0      0.0      0.0      0.0   \n",
            "\n",
            "           0.6      0.7      0.8  ...        0.658        0.659        0.660  \\\n",
            "count  29998.0  29998.0  29998.0  ...  9999.000000  9999.000000  9999.000000   \n",
            "mean       0.0      0.0      0.0  ...     0.179318     0.163616     0.052605   \n",
            "std        0.0      0.0      0.0  ...     5.674433     5.736359     2.420125   \n",
            "min        0.0      0.0      0.0  ...     0.000000     0.000000     0.000000   \n",
            "25%        0.0      0.0      0.0  ...     0.000000     0.000000     0.000000   \n",
            "50%        0.0      0.0      0.0  ...     0.000000     0.000000     0.000000   \n",
            "75%        0.0      0.0      0.0  ...     0.000000     0.000000     0.000000   \n",
            "max        0.0      0.0      0.0  ...   253.000000   253.000000   156.000000   \n",
            "\n",
            "             0.661   0.662   0.663   0.664   0.665   0.666   0.667  \n",
            "count  9999.000000  9999.0  9999.0  9999.0  9999.0  9999.0  9999.0  \n",
            "mean      0.000600     0.0     0.0     0.0     0.0     0.0     0.0  \n",
            "std       0.060003     0.0     0.0     0.0     0.0     0.0     0.0  \n",
            "min       0.000000     0.0     0.0     0.0     0.0     0.0     0.0  \n",
            "25%       0.000000     0.0     0.0     0.0     0.0     0.0     0.0  \n",
            "50%       0.000000     0.0     0.0     0.0     0.0     0.0     0.0  \n",
            "75%       0.000000     0.0     0.0     0.0     0.0     0.0     0.0  \n",
            "max       6.000000     0.0     0.0     0.0     0.0     0.0     0.0  \n",
            "\n",
            "[8 rows x 948 columns]\n",
            "longitude             0\n",
            "latitude              0\n",
            "housing_median_age    0\n",
            "total_rooms           0\n",
            "total_bedrooms        0\n",
            "population            0\n",
            "households            0\n",
            "median_income         0\n",
            "median_house_value    0\n",
            "dtype: int64\n",
            "6         9999\n",
            "0            0\n",
            "0.1          0\n",
            "0.2          0\n",
            "0.3          0\n",
            "         ...  \n",
            "0.663    19999\n",
            "0.664    19999\n",
            "0.665    19999\n",
            "0.666    19999\n",
            "0.667    19999\n",
            "Length: 948, dtype: int64\n"
          ]
        }
      ]
    }
  ],
  "metadata": {
    "jupytext": {
      "cell_metadata_filter": "-all",
      "main_language": "python",
      "notebook_metadata_filter": "-all"
    },
    "colab": {
      "provenance": [],
      "include_colab_link": true
    },
    "language_info": {
      "name": "python"
    },
    "kernelspec": {
      "name": "python3",
      "display_name": "Python 3"
    }
  },
  "nbformat": 4,
  "nbformat_minor": 5
}